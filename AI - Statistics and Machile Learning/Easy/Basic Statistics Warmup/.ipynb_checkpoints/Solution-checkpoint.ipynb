{
 "cells": [
  {
   "cell_type": "code",
   "execution_count": 74,
   "metadata": {
    "ExecuteTime": {
     "end_time": "2019-02-27T10:41:59.818376Z",
     "start_time": "2019-02-27T10:41:59.813416Z"
    },
    "init_cell": true
   },
   "outputs": [],
   "source": [
    "# Allows input to be taken via stdin, perfect for hackerrank\n",
    "import sys\n",
    "import matplotlib.pyplot as plt\n",
    "default_stdin = sys.stdin\n",
    "sys.stdin = open('input.txt.', 'r')"
   ]
  },
  {
   "cell_type": "markdown",
   "metadata": {},
   "source": [
    "# Solution"
   ]
  },
  {
   "cell_type": "code",
   "execution_count": 75,
   "metadata": {
    "ExecuteTime": {
     "end_time": "2019-02-27T10:41:59.832334Z",
     "start_time": "2019-02-27T10:41:59.821364Z"
    },
    "init_cell": true
   },
   "outputs": [
    {
     "name": "stdout",
     "output_type": "stream",
     "text": [
      "43900.6\n",
      "44627.5\n",
      "4978\n",
      "30466.9\n",
      "25017.0 62784.2\n"
     ]
    }
   ],
   "source": [
    "import numpy\n",
    "import math\n",
    "#import sys\n",
    "from scipy import stats\n",
    "n = int(sys.stdin.readline())\n",
    "data = sys.stdin.readline().split(\" \")\n",
    "data = list(map(int,data))\n",
    "data = numpy.array(data)\n",
    "mean = numpy.mean(data, axis = 0)\n",
    "std = numpy.std(data)\n",
    "mode = (stats.mode(data)[0][0])\n",
    "median = numpy.median(data)\n",
    "z=1.96\n",
    "print(round(mean,1))\n",
    "print(round(median,1))\n",
    "print(mode)\n",
    "print(round(std,1))\n",
    "print (str(round(mean-z*(std/math.sqrt(n)),1)) + \" \" + str(round(mean+z*(std/math.sqrt(n)),1)))"
   ]
  },
  {
   "cell_type": "code",
   "execution_count": null,
   "metadata": {},
   "outputs": [],
   "source": []
  },
  {
   "cell_type": "code",
   "execution_count": null,
   "metadata": {},
   "outputs": [],
   "source": []
  }
 ],
 "metadata": {
  "celltoolbar": "Initialization Cell",
  "kernelspec": {
   "display_name": "Python 3",
   "language": "python",
   "name": "python3"
  },
  "language_info": {
   "codemirror_mode": {
    "name": "ipython",
    "version": 3
   },
   "file_extension": ".py",
   "mimetype": "text/x-python",
   "name": "python",
   "nbconvert_exporter": "python",
   "pygments_lexer": "ipython3",
   "version": "3.6.5"
  },
  "varInspector": {
   "cols": {
    "lenName": 16,
    "lenType": 16,
    "lenVar": 40
   },
   "kernels_config": {
    "python": {
     "delete_cmd_postfix": "",
     "delete_cmd_prefix": "del ",
     "library": "var_list.py",
     "varRefreshCmd": "print(var_dic_list())"
    },
    "r": {
     "delete_cmd_postfix": ") ",
     "delete_cmd_prefix": "rm(",
     "library": "var_list.r",
     "varRefreshCmd": "cat(var_dic_list()) "
    }
   },
   "types_to_exclude": [
    "module",
    "function",
    "builtin_function_or_method",
    "instance",
    "_Feature"
   ],
   "window_display": false
  }
 },
 "nbformat": 4,
 "nbformat_minor": 2
}
