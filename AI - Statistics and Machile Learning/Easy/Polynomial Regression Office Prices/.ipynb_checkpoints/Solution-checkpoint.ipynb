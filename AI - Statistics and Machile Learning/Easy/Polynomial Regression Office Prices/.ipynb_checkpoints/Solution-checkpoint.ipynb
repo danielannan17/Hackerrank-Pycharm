{
 "cells": [
  {
   "cell_type": "code",
   "execution_count": 24,
   "metadata": {
    "ExecuteTime": {
     "end_time": "2019-02-27T00:35:26.871122Z",
     "start_time": "2019-02-27T00:35:26.867146Z"
    },
    "code_folding": []
   },
   "outputs": [],
   "source": [
    "# Allows input to be taken via stdin, perfect for hackerrank\n",
    "import sys\n",
    "default_stdin = sys.stdin\n",
    "sys.stdin = open('input.txt.', 'r')"
   ]
  },
  {
   "cell_type": "markdown",
   "metadata": {},
   "source": [
    "# Solution"
   ]
  },
  {
   "cell_type": "code",
   "execution_count": 25,
   "metadata": {
    "ExecuteTime": {
     "end_time": "2019-02-27T00:35:33.547274Z",
     "start_time": "2019-02-27T00:35:33.542276Z"
    }
   },
   "outputs": [],
   "source": [
    "import numpy as np\n",
    "import random\n",
    "import sklearn.preprocessing as pp"
   ]
  },
  {
   "cell_type": "code",
   "execution_count": 26,
   "metadata": {
    "ExecuteTime": {
     "end_time": "2019-02-27T00:35:40.079802Z",
     "start_time": "2019-02-27T00:35:40.071822Z"
    },
    "cell_style": "center",
    "code_folding": [
     0
    ]
   },
   "outputs": [],
   "source": [
    "def gradientDescentCalculation(X,y,theta):\n",
    "    hypothesis = np.dot(X,theta)\n",
    "    grad = np.dot(np.transpose(X),np.subtract(hypothesis,y))\n",
    "    theta = np.subtract(theta, (lr/N)*grad)\n",
    "    return theta"
   ]
  },
  {
   "cell_type": "code",
   "execution_count": 27,
   "metadata": {
    "ExecuteTime": {
     "end_time": "2019-02-27T00:35:47.703424Z",
     "start_time": "2019-02-27T00:35:47.695445Z"
    },
    "code_folding": [
     0
    ]
   },
   "outputs": [],
   "source": [
    "def computeCost(X,y,theta):\n",
    "    hypothesis = np.dot(X,theta)\n",
    "    err = np.subtract(hypothesis,y)\n",
    "    errSqrd = np.dot(np.transpose(err),err)\n",
    "    cost = np.multiply(0.5/N,errSqrd)\n",
    "    return cost"
   ]
  },
  {
   "cell_type": "code",
   "execution_count": 28,
   "metadata": {
    "ExecuteTime": {
     "end_time": "2019-02-27T00:35:56.697389Z",
     "start_time": "2019-02-27T00:35:56.678435Z"
    },
    "code_folding": [],
    "scrolled": true
   },
   "outputs": [],
   "source": [
    "lr = 0.1\n",
    "#Read in the data\n",
    "# F = Number of features\n",
    "# N = Number of examples\n",
    "# T = Number of test examples\n",
    "# Read in data \n",
    "F,N = sys.stdin.readline().split(\" \")\n",
    "F,N = int(F),int(N)\n",
    "data = np.zeros((N,F))\n",
    "y = np.zeros((N,1))\n",
    "\n",
    "# Split data into features and price\n",
    "for i in range(0,N):\n",
    "    inputLine = tuple(map(float,sys.stdin.readline().split(\" \")))\n",
    "    data[i] = inputLine[:-1]\n",
    "    y[i] = inputLine[-1]\n",
    "\n",
    "# Read in Test Data\n",
    "T = int(sys.stdin.readline())\n",
    "testData = np.zeros((T,F))\n",
    "for i in range(0,T):\n",
    "    testData[i] = tuple(map(float,sys.stdin.readline().split(\" \")))"
   ]
  },
  {
   "cell_type": "code",
   "execution_count": 31,
   "metadata": {
    "ExecuteTime": {
     "end_time": "2019-02-27T00:36:34.904420Z",
     "start_time": "2019-02-27T00:36:34.221248Z"
    }
   },
   "outputs": [
    {
     "name": "stdout",
     "output_type": "stream",
     "text": [
      "180.66628664134126\n",
      "1312.5412266139463\n",
      "441.47788281989597\n",
      "343.981741233844\n"
     ]
    }
   ],
   "source": [
    "poly = pp.PolynomialFeatures(4,include_bias = True)\n",
    "X = poly.fit_transform(data)\n",
    "F = len(X[0])\n",
    "\n",
    "# Random Initialisation of theta\n",
    "theta = np.zeros((F,1))\n",
    "for i in range(0,F):\n",
    "    theta[i] = random.uniform(0,10)\n",
    "# Calculate cost with current theta\n",
    "costHistory = []\n",
    "for i in range(0,40000):\n",
    "    theta = gradientDescentCalculation(X,y,theta)\n",
    "    cost = computeCost(X,y,theta)\n",
    "    costHistory.append(cost)\n",
    "# Test Data\n",
    "testX = poly.fit_transform(testData)\n",
    "output = np.dot(testX,theta)\n",
    "for i in output:\n",
    "    print(i[0])"
   ]
  },
  {
   "cell_type": "code",
   "execution_count": null,
   "metadata": {},
   "outputs": [],
   "source": []
  }
 ],
 "metadata": {
  "celltoolbar": "Initialization Cell",
  "kernelspec": {
   "display_name": "Python 3",
   "language": "python",
   "name": "python3"
  },
  "language_info": {
   "codemirror_mode": {
    "name": "ipython",
    "version": 3
   },
   "file_extension": ".py",
   "mimetype": "text/x-python",
   "name": "python",
   "nbconvert_exporter": "python",
   "pygments_lexer": "ipython3",
   "version": "3.6.5"
  },
  "varInspector": {
   "cols": {
    "lenName": 16,
    "lenType": 16,
    "lenVar": 40
   },
   "kernels_config": {
    "python": {
     "delete_cmd_postfix": "",
     "delete_cmd_prefix": "del ",
     "library": "var_list.py",
     "varRefreshCmd": "print(var_dic_list())"
    },
    "r": {
     "delete_cmd_postfix": ") ",
     "delete_cmd_prefix": "rm(",
     "library": "var_list.r",
     "varRefreshCmd": "cat(var_dic_list()) "
    }
   },
   "types_to_exclude": [
    "module",
    "function",
    "builtin_function_or_method",
    "instance",
    "_Feature"
   ],
   "window_display": false
  }
 },
 "nbformat": 4,
 "nbformat_minor": 2
}
