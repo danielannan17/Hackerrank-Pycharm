{
 "cells": [
  {
   "cell_type": "code",
   "execution_count": 1,
   "metadata": {
    "ExecuteTime": {
     "end_time": "2019-02-26T19:59:39.888574Z",
     "start_time": "2019-02-26T19:59:39.883588Z"
    },
    "code_folding": [
     0.0
    ]
   },
   "outputs": [],
   "source": [
    "# Allows input to be taken via stdin, perfect for hackerrank\n",
    "import sys\n",
    "default_stdin = sys.stdin\n",
    "sys.stdin = open('input.txt.', 'r')"
   ]
  },
  {
   "cell_type": "code",
   "execution_count": 2,
   "metadata": {
    "ExecuteTime": {
     "end_time": "2019-02-26T19:59:40.508909Z",
     "start_time": "2019-02-26T19:59:39.891566Z"
    }
   },
   "outputs": [],
   "source": [
    "import numpy as np\n",
    "import random\n",
    "import sklearn.preprocessing as pp"
   ]
  },
  {
   "cell_type": "code",
   "execution_count": 3,
   "metadata": {
    "ExecuteTime": {
     "end_time": "2019-02-26T19:59:40.517883Z",
     "start_time": "2019-02-26T19:59:40.511874Z"
    },
    "cell_style": "center",
    "code_folding": [
     0.0
    ]
   },
   "outputs": [],
   "source": [
    "def getAllCombinations(eleList):\n",
    "    finalList = []\n",
    "    for i in range(0,len(eleList)):\n",
    "        print(\"I is equal to :\" + str(i+1))\n",
    "        comb = combinations(eleList,i+1)\n",
    "        combi = []\n",
    "        for j in comb:\n",
    "            finalList.append(list(j))\n",
    "    return finalList"
   ]
  },
  {
   "cell_type": "code",
   "execution_count": 4,
   "metadata": {
    "ExecuteTime": {
     "end_time": "2019-02-26T19:59:40.529819Z",
     "start_time": "2019-02-26T19:59:40.522839Z"
    },
    "cell_style": "center",
    "code_folding": [
     0.0
    ]
   },
   "outputs": [],
   "source": [
    "def gradientDescentCalculation(X,y,theta):\n",
    "    hypothesis = np.dot(X,theta)\n",
    "    grad = np.dot(np.transpose(X),np.subtract(hypothesis,y))\n",
    "    theta = np.subtract(theta, (lr/N)*grad)\n",
    "    return theta"
   ]
  },
  {
   "cell_type": "code",
   "execution_count": 5,
   "metadata": {
    "ExecuteTime": {
     "end_time": "2019-02-26T19:59:40.540806Z",
     "start_time": "2019-02-26T19:59:40.533809Z"
    },
    "code_folding": [
     0.0
    ]
   },
   "outputs": [],
   "source": [
    "def computeCost(X,y,theta):\n",
    "    hypothesis = np.dot(X,theta)\n",
    "    err = np.subtract(hypothesis,y)\n",
    "    errSqrd = np.dot(np.transpose(err),err)\n",
    "    cost = np.multiply(0.5/N,errSqrd)\n",
    "    return cost"
   ]
  },
  {
   "cell_type": "code",
   "execution_count": 6,
   "metadata": {
    "ExecuteTime": {
     "end_time": "2019-02-26T19:59:40.551760Z",
     "start_time": "2019-02-26T19:59:40.544809Z"
    },
    "code_folding": [
     0.0
    ]
   },
   "outputs": [],
   "source": [
    "def addPolynomialFeatures(data,*args):\n",
    "    i = 0\n",
    "    for feature,power in args:\n",
    "        data = np.concatenate((data,data[:,[feature]]**power), axis=1)\n",
    "        i+=1\n",
    "    return data,i"
   ]
  },
  {
   "cell_type": "code",
   "execution_count": 7,
   "metadata": {
    "ExecuteTime": {
     "end_time": "2019-02-26T19:59:40.560767Z",
     "start_time": "2019-02-26T19:59:40.553754Z"
    },
    "code_folding": [
     0.0
    ]
   },
   "outputs": [],
   "source": [
    "def polynomialList(data,numFeatures,maxDegree):\n",
    "    features = range(0,numFeatures)\n",
    "    finalList = []\n",
    "    for i in range(2,maxDegree+1):\n",
    "        finalList.append(list(combinations_with_replacement(features,i)))\n",
    "    finalList = [item for sublist in finalList for item in sublist]\n",
    "    return finalLists"
   ]
  },
  {
   "cell_type": "code",
   "execution_count": 8,
   "metadata": {
    "ExecuteTime": {
     "end_time": "2019-02-26T19:59:40.575696Z",
     "start_time": "2019-02-26T19:59:40.562732Z"
    },
    "code_folding": [],
    "scrolled": true
   },
   "outputs": [],
   "source": [
    "lr = 0.1\n",
    "#Read in the data\n",
    "# F = Number of features\n",
    "# N = Number of examples\n",
    "# T = Number of test examples\n",
    "# Read in data \n",
    "F,N = sys.stdin.readline().split(\" \")\n",
    "F,N = int(F),int(N)\n",
    "data = np.zeros((N,F))\n",
    "y = np.zeros((N,1))\n",
    "\n",
    "# Split data into features and price\n",
    "for i in range(0,N):\n",
    "    inputLine = tuple(map(float,sys.stdin.readline().split(\" \")))\n",
    "    data[i] = inputLine[:-1]\n",
    "    y[i] = inputLine[-1]\n",
    "\n",
    "# Read in Test Data\n",
    "T = int(sys.stdin.readline())\n",
    "testData = np.zeros((T,F))\n",
    "for i in range(0,T):\n",
    "    testData[i] = tuple(map(float,sys.stdin.readline().split(\" \")))"
   ]
  },
  {
   "cell_type": "code",
   "execution_count": 10,
   "metadata": {
    "ExecuteTime": {
     "end_time": "2019-02-26T20:01:27.018555Z",
     "start_time": "2019-02-26T20:01:26.539835Z"
    }
   },
   "outputs": [
    {
     "name": "stdout",
     "output_type": "stream",
     "text": [
      "180.67525674665808\n",
      "1312.5281818579463\n",
      "441.42449889781665\n",
      "343.99701584584113\n"
     ]
    }
   ],
   "source": [
    "# Add Polynomial features\n",
    "bestCost = 9999999\n",
    "bestTheta =[]\n",
    "bestFeatures = []\n",
    "k = 0\n",
    "poly = pp.PolynomialFeatures(4,include_bias = True)\n",
    "X = poly.fit_transform(data)\n",
    "F = len(X[0])\n",
    "    \n",
    "\n",
    "# Add Bias Term\n",
    "#X = np.concatenate((np.ones((N,1)),X),axis=1)\n",
    "\n",
    "# Random Initialisation of theta\n",
    "theta = np.zeros((F,1))\n",
    "for i in range(0,F):\n",
    "    theta[i] = random.uniform(0,10)\n",
    "# Calculate cost with current theta\n",
    "costHistory = []\n",
    "for i in range(0,40000):\n",
    "    theta = gradientDescentCalculation(X,y,theta)\n",
    "    cost = computeCost(X,y,theta)\n",
    "    costHistory.append(cost)\n",
    "\n",
    "if cost < bestCost:\n",
    "    bestCost = cost\n",
    "    bestTheta = theta\n",
    "\n",
    "# Test Data\n",
    "testX = poly.fit_transform(testData)\n",
    "output = np.dot(testX,bestTheta)\n",
    "for i in output:\n",
    "    print(i[0])"
   ]
  },
  {
   "cell_type": "code",
   "execution_count": null,
   "metadata": {},
   "outputs": [],
   "source": []
  }
 ],
 "metadata": {
  "celltoolbar": "Initialization Cell",
  "kernelspec": {
   "display_name": "Python 3",
   "language": "python",
   "name": "python3"
  },
  "language_info": {
   "codemirror_mode": {
    "name": "ipython",
    "version": 3
   },
   "file_extension": ".py",
   "mimetype": "text/x-python",
   "name": "python",
   "nbconvert_exporter": "python",
   "pygments_lexer": "ipython3",
   "version": "3.6.8"
  },
  "varInspector": {
   "cols": {
    "lenName": 16.0,
    "lenType": 16.0,
    "lenVar": 40.0
   },
   "kernels_config": {
    "python": {
     "delete_cmd_postfix": "",
     "delete_cmd_prefix": "del ",
     "library": "var_list.py",
     "varRefreshCmd": "print(var_dic_list())"
    },
    "r": {
     "delete_cmd_postfix": ") ",
     "delete_cmd_prefix": "rm(",
     "library": "var_list.r",
     "varRefreshCmd": "cat(var_dic_list()) "
    }
   },
   "types_to_exclude": [
    "module",
    "function",
    "builtin_function_or_method",
    "instance",
    "_Feature"
   ],
   "window_display": false
  }
 },
 "nbformat": 4,
 "nbformat_minor": 2
}
