{
 "cells": [
  {
   "cell_type": "code",
   "execution_count": null,
   "metadata": {
    "ExecuteTime": {
     "end_time": "2019-02-27T14:15:41.648899Z",
     "start_time": "2019-02-27T14:15:41.642915Z"
    },
    "tags": [
     "#openFile"
    ]
   },
   "outputs": [],
   "source": [
    "# Allows input to be taken via stdin, perfect for hackerrank\n",
    "import sys\n",
    "import matplotlib.pyplot as plt\n",
    "default_stdin = sys.stdin\n",
    "sys.stdin = open('input0.txt.', 'r')"
   ]
  },
  {
   "cell_type": "code",
   "execution_count": null,
   "metadata": {
    "ExecuteTime": {
     "end_time": "2019-02-27T14:15:41.640921Z",
     "start_time": "2019-02-27T14:15:41.627955Z"
    }
   },
   "outputs": [],
   "source": [
    "# Maybe necessary\n",
    "# 1. Open/Create file\n",
    "# 2. Convert file to dict\n",
    "# 3. Update the dict with latest information\n",
    "# 4. Write back to file\n",
    "# Create a history dicts - (String) Key, (list) Values\n",
    "# [K] -> (string) stock name, [V0] -> (int) shares owned, [V1] -> (float list) History\n",
    "history = {}\n",
    "today = {}\n",
    "def updateHistory():\n",
    "    global history, today\n",
    "    historyFile = 0\n",
    "    # 1. Open/Create file\n",
    "    try:\n",
    "        # If the file exists, open and read the data into history\n",
    "        historyFile = open('history.txt', 'r+')\n",
    "    except IOError:\n",
    "        historyFile = open('history.txt', 'w+')\n",
    "    \n",
    "    # 2. Convert file to dict if it already existed\n",
    "    data = historyFile.readline()\n",
    "    if (data):\n",
    "        history = json.loads(data)\n",
    "    historyFile.close()\n",
    "    \n",
    "    # 3. Update the history dict\n",
    "    if history:\n",
    "        for stock in today.keys():\n",
    "            history[stock][0] = today[stock][0]\n",
    "            history[stock][1].append(today[stock][1][-1])\n",
    "    else:\n",
    "        history = today\n",
    "    # 4. Write new history dict to file\n",
    "    historyFile = open('history.txt', 'w')\n",
    "    historyFile.write(json.dumps(history))\n",
    "    historyFile.close()"
   ]
  },
  {
   "cell_type": "code",
   "execution_count": null,
   "metadata": {
    "ExecuteTime": {
     "end_time": "2019-02-27T14:15:41.667852Z",
     "start_time": "2019-02-27T14:15:41.651899Z"
    },
    "tags": [
     "#readInputs",
     "=>openFile"
    ]
   },
   "outputs": [],
   "source": [
    "# Read in a day of data\n",
    "daysLeft = 0\n",
    "def readInDay():\n",
    "    global moneyAvailable,stocksAvailable,daysLeft,today\n",
    "    dayInputs = sys.stdin.readline().split(\" \")\n",
    "    # m -> Money available to be spent that day\n",
    "    # k -> number of different stocks available to buy or sell\n",
    "    # d -> number of days remaining to trade\n",
    "    m,k,d = tuple(map(float,(dayInputs)))\n",
    "    # Update globals\n",
    "    moneyAvailable = m\n",
    "    stocksAvailable = k\n",
    "    daysLeft = d\n",
    "    # Store the data for this day\n",
    "    for i in range(0,int(k)):\n",
    "            line = sys.stdin.readline().split(\" \")\n",
    "            stockName = line.pop(0)\n",
    "            sharesOwned = int(line.pop(0))\n",
    "            previousHistory = list(map(float,line))\n",
    "            # Store todays information in a dict\n",
    "            today[stockName] = [sharesOwned,previousHistory]"
   ]
  },
  {
   "cell_type": "code",
   "execution_count": null,
   "metadata": {
    "ExecuteTime": {
     "end_time": "2019-02-27T14:15:41.679829Z",
     "start_time": "2019-02-27T14:15:41.670840Z"
    }
   },
   "outputs": [],
   "source": [
    "def main():\n",
    "    readInDay()\n",
    "    updateHistory()\n",
    "    print(history)\n",
    "\n",
    "if __name__ == '__main__':\n",
    "    main()"
   ]
  }
 ],
 "metadata": {
  "celltoolbar": "Tags",
  "kernelspec": {
   "display_name": "Python 3",
   "language": "python",
   "name": "python3"
  },
  "language_info": {
   "codemirror_mode": {
    "name": "ipython",
    "version": 3
   },
   "file_extension": ".py",
   "mimetype": "text/x-python",
   "name": "python",
   "nbconvert_exporter": "python",
   "pygments_lexer": "ipython3",
   "version": "3.6.5"
  },
  "varInspector": {
   "cols": {
    "lenName": 16,
    "lenType": 16,
    "lenVar": 40
   },
   "kernels_config": {
    "python": {
     "delete_cmd_postfix": "",
     "delete_cmd_prefix": "del ",
     "library": "var_list.py",
     "varRefreshCmd": "print(var_dic_list())"
    },
    "r": {
     "delete_cmd_postfix": ") ",
     "delete_cmd_prefix": "rm(",
     "library": "var_list.r",
     "varRefreshCmd": "cat(var_dic_list()) "
    }
   },
   "types_to_exclude": [
    "module",
    "function",
    "builtin_function_or_method",
    "instance",
    "_Feature"
   ],
   "window_display": false
  }
 },
 "nbformat": 4,
 "nbformat_minor": 2
}
