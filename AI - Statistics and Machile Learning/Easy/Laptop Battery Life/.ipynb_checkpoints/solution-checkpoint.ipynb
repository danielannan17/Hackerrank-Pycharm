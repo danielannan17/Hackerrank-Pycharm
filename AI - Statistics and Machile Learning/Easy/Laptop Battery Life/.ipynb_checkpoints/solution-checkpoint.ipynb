{
 "cells": [
  {
   "cell_type": "code",
   "execution_count": 15,
   "metadata": {
    "ExecuteTime": {
     "end_time": "2019-02-26T23:24:44.343923Z",
     "start_time": "2019-02-26T23:24:44.338936Z"
    }
   },
   "outputs": [],
   "source": [
    "# Allows input to be taken via stdin, perfect for hackerrank\n",
    "import sys\n",
    "import matplotlib.pyplot as plt\n",
    "default_stdin = sys.stdin\n",
    "sys.stdin = open('trainingdata.txt.', 'r')"
   ]
  },
  {
   "cell_type": "code",
   "execution_count": 23,
   "metadata": {
    "ExecuteTime": {
     "end_time": "2019-02-26T23:32:30.717160Z",
     "start_time": "2019-02-26T23:32:30.582524Z"
    }
   },
   "outputs": [
    {
     "data": {
      "image/png": "[encoded data removed]",
      "text/plain": [
       "<Figure size 432x288 with 1 Axes>"
      ]
     },
     "metadata": {},
     "output_type": "display_data"
    },
    {
     "name": "stdout",
     "output_type": "stream",
     "text": [
      "[(2.81, 5.62), (7.14, 8.0), (2.72, 5.44), (3.87, 7.74), (1.9, 3.8), (7.82, 8.0), (7.02, 8.0), (5.5, 8.0), (9.15, 8.0), (4.87, 8.0), (8.08, 8.0), (5.58, 8.0), (9.13, 8.0), (0.14, 0.28), (2.0, 4.0), (5.47, 8.0), (0.8, 1.6), (4.37, 8.0), (5.31, 8.0), (0.0, 0.0), (1.78, 3.56), (3.45, 6.9), (6.13, 8.0), (3.53, 7.06), (4.61, 8.0), (1.76, 3.52), (6.39, 8.0), (0.02, 0.04), (9.69, 8.0), (5.33, 8.0), (6.37, 8.0), (5.55, 8.0), (7.8, 8.0), (2.06, 4.12), (7.79, 8.0), (2.24, 4.48), (9.71, 8.0), (1.11, 2.22), (8.38, 8.0), (2.33, 4.66), (1.83, 3.66), (5.94, 8.0), (9.2, 8.0), (1.14, 2.28), (4.15, 8.0), (8.43, 8.0), (5.68, 8.0), (8.21, 8.0), (1.75, 3.5), (2.16, 4.32), (4.93, 8.0), (5.75, 8.0), (1.26, 2.52), (3.97, 7.94), (4.39, 8.0), (7.53, 8.0), (1.98, 3.96), (1.66, 3.32), (2.04, 4.08), (11.72, 8.0), (4.64, 8.0), (4.71, 8.0), (3.77, 7.54), (9.33, 8.0), (1.83, 3.66), (2.15, 4.3), (1.58, 3.16), (9.29, 8.0), (1.27, 2.54), (8.49, 8.0), (5.39, 8.0), (3.47, 6.94), (6.48, 8.0), (4.11, 8.0), (1.85, 3.7), (8.79, 8.0), (0.13, 0.26), (1.44, 2.88), (5.96, 8.0), (3.42, 6.84), (1.89, 3.78), (1.98, 3.96), (5.26, 8.0), (0.39, 0.78), (6.05, 8.0), (1.99, 3.98), (1.58, 3.16), (3.99, 7.98), (4.35, 8.0), (6.71, 8.0), (2.58, 5.16), (7.37, 8.0), (5.77, 8.0), (3.97, 7.94), (3.65, 7.3), (4.38, 8.0), (8.06, 8.0), (8.05, 8.0), (1.1, 2.2), (6.65, 8.0)]\n"
     ]
    }
   ],
   "source": [
    "# Plotting Graph\n",
    "lines = sys.stdin.readlines()\n",
    "for l in lines:\n",
    "    a,b = l.split(\",\")\n",
    "    a,b = float(a),float(b)\n",
    "    linesList.append((a,b))\n",
    "list1, list2 = zip(*linesList)\n",
    "plt.scatter(list1,list2)\n",
    "plt.show()\n",
    "sys.stdin = default_stdin"
   ]
  },
  {
   "cell_type": "code",
   "execution_count": 46,
   "metadata": {
    "ExecuteTime": {
     "end_time": "2019-02-27T00:01:41.038736Z",
     "start_time": "2019-02-27T00:01:41.033748Z"
    }
   },
   "outputs": [
    {
     "name": "stdout",
     "output_type": "stream",
     "text": [
      "0.0\n"
     ]
    }
   ],
   "source": [
    "# Checking gradient and intercept\n",
    "point1 = linesList[0]\n",
    "point2 = linesList[4]\n",
    "m = (point2[1]-point1[1])/(point2[0]-point1[0])\n",
    "print(m)\n",
    "c = point2[1] - (m*point2[0])\n",
    "print(c)"
   ]
  },
  {
   "cell_type": "code",
   "execution_count": 44,
   "metadata": {
    "ExecuteTime": {
     "end_time": "2019-02-26T23:59:49.061573Z",
     "start_time": "2019-02-26T23:59:49.057609Z"
    }
   },
   "outputs": [
    {
     "name": "stdout",
     "output_type": "stream",
     "text": [
      "0.18\n"
     ]
    }
   ],
   "source": [
    "# Solution\n",
    "if __name__ == '__main__':\n",
    "    timeCharged = float(input())\n",
    "    y = timeCharged*2\n",
    "    if y > 8:\n",
    "        y = 8\n",
    "    print(y)"
   ]
  },
  {
   "cell_type": "code",
   "execution_count": null,
   "metadata": {},
   "outputs": [],
   "source": []
  }
 ],
 "metadata": {
  "kernelspec": {
   "display_name": "Python 3",
   "language": "python",
   "name": "python3"
  },
  "language_info": {
   "codemirror_mode": {
    "name": "ipython",
    "version": 3
   },
   "file_extension": ".py",
   "mimetype": "text/x-python",
   "name": "python",
   "nbconvert_exporter": "python",
   "pygments_lexer": "ipython3",
   "version": "3.6.5"
  },
  "varInspector": {
   "cols": {
    "lenName": 16,
    "lenType": 16,
    "lenVar": 40
   },
   "kernels_config": {
    "python": {
     "delete_cmd_postfix": "",
     "delete_cmd_prefix": "del ",
     "library": "var_list.py",
     "varRefreshCmd": "print(var_dic_list())"
    },
    "r": {
     "delete_cmd_postfix": ") ",
     "delete_cmd_prefix": "rm(",
     "library": "var_list.r",
     "varRefreshCmd": "cat(var_dic_list()) "
    }
   },
   "types_to_exclude": [
    "module",
    "function",
    "builtin_function_or_method",
    "instance",
    "_Feature"
   ],
   "window_display": false
  }
 },
 "nbformat": 4,
 "nbformat_minor": 2
}
