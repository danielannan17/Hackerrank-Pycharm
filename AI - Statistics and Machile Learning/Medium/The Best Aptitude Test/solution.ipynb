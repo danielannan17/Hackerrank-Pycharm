{
 "cells": [
  {
   "cell_type": "code",
   "execution_count": 88,
   "metadata": {
    "ExecuteTime": {
     "end_time": "2019-03-06T01:38:15.308010Z",
     "start_time": "2019-03-06T01:38:15.303015Z"
    }
   },
   "outputs": [],
   "source": [
    "# Allows input to be taken via stdin, perfect for hackerrank\n",
    "import sys\n",
    "import numpy\n",
    "import math\n",
    "import matplotlib.pyplot as plt\n",
    "default_stdin = sys.stdin\n",
    "sys.stdin = open('input01.txt.', 'r')"
   ]
  },
  {
   "cell_type": "code",
   "execution_count": 89,
   "metadata": {
    "ExecuteTime": {
     "end_time": "2019-03-06T01:38:15.318988Z",
     "start_time": "2019-03-06T01:38:15.311991Z"
    },
    "code_folding": []
   },
   "outputs": [],
   "source": [
    "def s(a,b,n):\n",
    "    dot = numpy.dot(a,b)\n",
    "    return dot - ((numpy.sum(a)*numpy.sum(b))/n)\n",
    "\n",
    "def pearsonSolution():\n",
    "    numStudents = int(sys.stdin.readline())\n",
    "    \n",
    "    Y = list(map(float,sys.stdin.readline().split(\" \")))\n",
    "    Y = numpy.array(Y)\n",
    "    Y = numpy.subtract(Y,numpy.mean(Y))\n",
    "    Y = Y.reshape((numStudents,1))\n",
    "    X =[]\n",
    "    R = []\n",
    "    for i in range(0,5):\n",
    "        x = list(map(float,sys.stdin.readline().split(\" \")))\n",
    "        x = numpy.array(x)\n",
    "        x = numpy.subtract(x,numpy.mean(x))\n",
    "        x = x.reshape((numStudents,1))\n",
    "        correlation = s(numpy.transpose(x),Y,numStudents)/math.sqrt(s(numpy.transpose(x),x,numStudents)*s(numpy.transpose(Y),Y,numStudents))\n",
    "        if numpy.isnan(correlation):\n",
    "            correlation = 0\n",
    "        R.append(correlation)\n",
    "    print(numpy.argmax(R)+1)"
   ]
  },
  {
   "cell_type": "code",
   "execution_count": 90,
   "metadata": {
    "ExecuteTime": {
     "end_time": "2019-03-06T01:38:15.327957Z",
     "start_time": "2019-03-06T01:38:15.321993Z"
    }
   },
   "outputs": [],
   "source": [
    "def calculateSpearmanCorrelation(x, yRanks,n,i):\n",
    "    # Determine ranks of X\n",
    "    xSorted = x.copy()\n",
    "    xSorted.sort(reverse = True)\n",
    "    xRanks = [xSorted.index(v)+1 for v in x]\n",
    "    xRanks = numpy.array(xRanks)\n",
    "    # Calculate difference between ranks of xi and yi\n",
    "    d = numpy.subtract(xRanks,yRanks)\n",
    "    # Calculate d^2\n",
    "    d2 = numpy.multiply(d,d)\n",
    "    # Calculate the correlation\n",
    "    correlation = 1 - ((6*numpy.sum(d2))/(n*(n*n-1)))\n",
    "    return correlation\n",
    "    \n",
    "\n",
    "def spearmanSolution():\n",
    "    R = []\n",
    "    numStudents = int(sys.stdin.readline())\n",
    "    Y = list(map(float,sys.stdin.readline().split(\" \")))\n",
    "    \n",
    "    # Determine the rank for each y\n",
    "    ySorted = Y.copy() \n",
    "    ySorted.sort(reverse = True)\n",
    "    yRanks = [ySorted.index(v)+1 for v in Y]\n",
    "    yRanks = numpy.array(yRanks)\n",
    "    for i in range(5):\n",
    "        x = list(map(float,sys.stdin.readline().split(\" \")))\n",
    "        R.append(calculateSpearmanCorrelation(x,yRanks,numStudents,i)) \n",
    "    print(numpy.argmax(R)+1)"
   ]
  },
  {
   "cell_type": "code",
   "execution_count": 91,
   "metadata": {
    "ExecuteTime": {
     "end_time": "2019-03-06T01:38:15.337922Z",
     "start_time": "2019-03-06T01:38:15.329943Z"
    }
   },
   "outputs": [
    {
     "name": "stdout",
     "output_type": "stream",
     "text": [
      "1\n"
     ]
    }
   ],
   "source": [
    "def main():\n",
    "    sys.stdin.readline()\n",
    "    spearmanSolution()\n",
    "    \n",
    "    \n",
    "if __name__ == '__main__':\n",
    "    main()"
   ]
  }
 ],
 "metadata": {
  "kernelspec": {
   "display_name": "Python 3",
   "language": "python",
   "name": "python3"
  },
  "language_info": {
   "codemirror_mode": {
    "name": "ipython",
    "version": 3
   },
   "file_extension": ".py",
   "mimetype": "text/x-python",
   "name": "python",
   "nbconvert_exporter": "python",
   "pygments_lexer": "ipython3",
   "version": "3.6.5"
  },
  "varInspector": {
   "cols": {
    "lenName": 16,
    "lenType": 16,
    "lenVar": 40
   },
   "kernels_config": {
    "python": {
     "delete_cmd_postfix": "",
     "delete_cmd_prefix": "del ",
     "library": "var_list.py",
     "varRefreshCmd": "print(var_dic_list())"
    },
    "r": {
     "delete_cmd_postfix": ") ",
     "delete_cmd_prefix": "rm(",
     "library": "var_list.r",
     "varRefreshCmd": "cat(var_dic_list()) "
    }
   },
   "types_to_exclude": [
    "module",
    "function",
    "builtin_function_or_method",
    "instance",
    "_Feature"
   ],
   "window_display": false
  }
 },
 "nbformat": 4,
 "nbformat_minor": 2
}
