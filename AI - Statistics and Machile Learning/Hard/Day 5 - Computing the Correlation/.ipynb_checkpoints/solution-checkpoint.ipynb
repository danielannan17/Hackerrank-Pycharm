{
 "cells": [
  {
   "cell_type": "code",
   "execution_count": 64,
   "metadata": {
    "ExecuteTime": {
     "end_time": "2019-03-07T00:35:27.022236Z",
     "start_time": "2019-03-07T00:35:27.018247Z"
    }
   },
   "outputs": [],
   "source": [
    "# Allows input to be taken via stdin, perfect for hackerrank\n",
    "import sys\n",
    "import matplotlib.pyplot as plt\n",
    "default_stdin = sys.stdin\n",
    "sys.stdin = open('input00.txt.', 'r')"
   ]
  },
  {
   "cell_type": "code",
   "execution_count": 65,
   "metadata": {
    "ExecuteTime": {
     "end_time": "2019-03-07T00:35:27.030214Z",
     "start_time": "2019-03-07T00:35:27.024229Z"
    }
   },
   "outputs": [],
   "source": [
    "\n",
    "def s(a, b, n):\n",
    "    sumA = sum(a)\n",
    "    sumB = sum(b)\n",
    "    ab = zip(a,b)\n",
    "    dot =  [item[0]*item[1] for item in ab]\n",
    "    dot = sum(dot)\n",
    "    return dot - ((sum(a)*sum(b))/n)\n",
    "\n",
    "def calculateCorrelation(a,b,n):\n",
    "    return s(a,b,n)/((s(a,a,n)*s(b,b,n))**(1/2))\n",
    "    "
   ]
  },
  {
   "cell_type": "code",
   "execution_count": 66,
   "metadata": {
    "ExecuteTime": {
     "end_time": "2019-03-07T00:35:27.039192Z",
     "start_time": "2019-03-07T00:35:27.032237Z"
    }
   },
   "outputs": [
    {
     "name": "stdout",
     "output_type": "stream",
     "text": [
      "0.89\n",
      "0.92\n",
      "0.81\n"
     ]
    }
   ],
   "source": [
    "def main():\n",
    "    n = int(sys.stdin.readline())\n",
    "    maths = []\n",
    "    physics = []\n",
    "    chemistry = []\n",
    "    for i in range(n):     \n",
    "        line = list(map(int,sys.stdin.readline().split(\"\\t\")))\n",
    "        maths.append(line[0])\n",
    "        physics.append(line[1])\n",
    "        chemistry.append(line[2])\n",
    "    print(round(calculateCorrelation(maths,physics,n),2))\n",
    "    print(round(calculateCorrelation(physics,chemistry,n),2))\n",
    "    print(round(calculateCorrelation(chemistry,maths,n),2))\n",
    "\n",
    "if __name__ == '__main__':\n",
    "    main()"
   ]
  }
 ],
 "metadata": {
  "kernelspec": {
   "display_name": "Python 3",
   "language": "python",
   "name": "python3"
  },
  "language_info": {
   "codemirror_mode": {
    "name": "ipython",
    "version": 3
   },
   "file_extension": ".py",
   "mimetype": "text/x-python",
   "name": "python",
   "nbconvert_exporter": "python",
   "pygments_lexer": "ipython3",
   "version": "3.6.5"
  },
  "varInspector": {
   "cols": {
    "lenName": 16,
    "lenType": 16,
    "lenVar": 40
   },
   "kernels_config": {
    "python": {
     "delete_cmd_postfix": "",
     "delete_cmd_prefix": "del ",
     "library": "var_list.py",
     "varRefreshCmd": "print(var_dic_list())"
    },
    "r": {
     "delete_cmd_postfix": ") ",
     "delete_cmd_prefix": "rm(",
     "library": "var_list.r",
     "varRefreshCmd": "cat(var_dic_list()) "
    }
   },
   "types_to_exclude": [
    "module",
    "function",
    "builtin_function_or_method",
    "instance",
    "_Feature"
   ],
   "window_display": false
  }
 },
 "nbformat": 4,
 "nbformat_minor": 2
}
